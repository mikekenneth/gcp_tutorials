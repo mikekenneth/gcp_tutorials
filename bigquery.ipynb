{
 "cells": [
  {
   "cell_type": "code",
   "execution_count": 1,
   "metadata": {},
   "outputs": [],
   "source": [
    "import os\n",
    "from google.cloud import bigquery\n",
    "\n",
    "# To get the credentials.json file https://cloud.google.com/iam/docs/creating-managing-service-account-keys#creating\n",
    "os.environ[\"GOOGLE_APPLICATION_CREDENTIALS\"] = \"/home/kenneth/tutorials/google_cloud_tutorials/credentials.json\""
   ]
  },
  {
   "cell_type": "code",
   "execution_count": 2,
   "metadata": {},
   "outputs": [],
   "source": [
    "# Construct a BigQuery client object.\n",
    "client = bigquery.Client()"
   ]
  },
  {
   "cell_type": "code",
   "execution_count": 14,
   "metadata": {},
   "outputs": [
    {
     "name": "stdout",
     "output_type": "stream",
     "text": [
      "Table Name: article_data\n",
      "    location: US\n",
      "    created: 2022-11-20 15:02:10.486000+00:00\n",
      "    modified: 2022-11-20 15:02:10.541000+00:00\n",
      "    schema: [SchemaField('article_text', 'STRING', 'NULLABLE', None, None, (), None), SchemaField('category', 'STRING', 'NULLABLE', None, None, (), None), SchemaField('confidence', 'FLOAT', 'NULLABLE', None, None, (), None)]\n",
      "    description: None\n",
      "    num_bytes: 0\n",
      "    num_rows: 0\n",
      "    streaming_buffer.estimated_bytes: None\n",
      "    streaming_buffer.estimated_rows: 488\n"
     ]
    }
   ],
   "source": [
    "# Select DataSet and Table references\n",
    "dataset_ref = client.dataset('news_classification_dataset')\n",
    "dataset = bigquery.Dataset(dataset_ref)\n",
    "table_ref = dataset.table('article_data') # Update this if you used a different table name\n",
    "table = client.get_table(table_ref)\n",
    "\n",
    "# We can use the below command to get the Selected tables inforamtion\n",
    "\n",
    "print(f\"Table Name: {table.table_id}\\n\\\n",
    "    location: {table.location}\\n\\\n",
    "    created: {table.created}\\n\\\n",
    "    modified: {table.modified}\\n\\\n",
    "    schema: {table.schema}\\n\\\n",
    "    description: {table.description}\\n\\\n",
    "    num_bytes: {table.num_bytes}\\n\\\n",
    "    num_rows: {table.num_rows}\\n\\\n",
    "    streaming_buffer.estimated_bytes: {table.streaming_buffer.estimated_bytes}\\n\\\n",
    "    streaming_buffer.estimated_rows: {table.streaming_buffer.estimated_rows}\"\n",
    ")"
   ]
  },
  {
   "cell_type": "code",
   "execution_count": 5,
   "metadata": {},
   "outputs": [
    {
     "name": "stdout",
     "output_type": "stream",
     "text": [
      "The query data:\n",
      "article_text=b'Ad sales boost Time Warner profit\\n\\nQuarterly profits at US media giant TimeWarner jumped 76% to $1.13bn (\\xc2\\xa3600m) for the three months to December, from $639m year-earlier.\\n\\nThe firm, which is now one of the biggest investors in Google, benefited from sales of high-speed internet connections and higher advert sales. TimeWarner said fourth quarter sales rose 2% to $11.1bn from $10.9bn. Its profits were buoyed by one-off gains which offset a profit dip at Warner Bros, and less users for AOL.\\n\\nTime Warner said on Friday that it now owns 8% of search-engine Google. But its own internet business, AOL, had has mixed fortunes. It lost 464,000 subscribers in the fourth quarter profits were lower than in the preceding three quarters. However, the company said AOL\\'s underlying profit before exceptional items rose 8% on the back of stronger internet advertising revenues. It hopes to increase subscribers by offering the online service free to TimeWarner internet customers and will try to sign up AOL\\'s existing customers for high-speed broadband. TimeWarner also has to restate 2000 and 2003 results following a probe by the US Securities Exchange Commission (SEC), which is close to concluding.\\n\\nTime Warner\\'s fourth quarter profits were slightly better than analysts\\' expectations. But its film division saw profits slump 27% to $284m, helped by box-office flops Alexander and Catwoman, a sharp contrast to year-earlier, when the third and final film in the Lord of the Rings trilogy boosted results. For the full-year, TimeWarner posted a profit of $3.36bn, up 27% from its 2003 performance, while revenues grew 6.4% to $42.09bn. \"Our financial performance was strong, meeting or exceeding all of our full-year objectives and greatly enhancing our flexibility,\" chairman and chief executive Richard Parsons said. For 2005, TimeWarner is projecting operating earnings growth of around 5%, and also expects higher revenue and wider profit margins.\\n\\nTimeWarner is to restate its accounts as part of efforts to resolve an inquiry into AOL by US market regulators. It has already offered to pay $300m to settle charges, in a deal that is under review by the SEC. The company said it was unable to estimate the amount it needed to set aside for legal reserves, which it previously set at $500m. It intends to adjust the way it accounts for a deal with German music publisher Bertelsmann\\'s purchase of a stake in AOL Europe, which it had reported as advertising revenue. It will now book the sale of its stake in AOL Europe as a loss on the value of that stake.\\n', category=/Business & Industrial, confidence=0.7699999809265137\n",
      "article_text=b'Dollar gains on Greenspan speech\\n\\nThe dollar has hit its highest level against the euro in almost three months after the Federal Reserve head said the US trade deficit is set to stabilise.\\n\\nAnd Alan Greenspan highlighted the US government\\'s willingness to curb spending and rising household savings as factors which may help to reduce it. In late trading in New York, the dollar reached $1.2871 against the euro, from $1.2974 on Thursday. Market concerns about the deficit has hit the greenback in recent months. On Friday, Federal Reserve chairman Mr Greenspan\\'s speech in London ahead of the meeting of G7 finance ministers sent the dollar higher after it had earlier tumbled on the back of worse-than-expected US jobs data. \"I think the chairman\\'s taking a much more sanguine view on the current account deficit than he\\'s taken for some time,\" said Robert Sinche, head of currency strategy at Bank of America in New York. \"He\\'s taking a longer-term view, laying out a set of conditions under which the current account deficit can improve this year and next.\"\\n\\nWorries about the deficit concerns about China do, however, remain. China\\'s currency remains pegged to the dollar and the US currency\\'s sharp falls in recent months have therefore made Chinese export prices highly competitive. But calls for a shift in Beijing\\'s policy have fallen on deaf ears, despite recent comments in a major Chinese newspaper that the \"time is ripe\" for a loosening of the peg. The G7 meeting is thought unlikely to produce any meaningful movement in Chinese policy. In the meantime, the US Federal Reserve\\'s decision on 2 February to boost interest rates by a quarter of a point - the sixth such move in as many months - has opened up a differential with European rates. The half-point window, some believe, could be enough to keep US assets looking more attractive, and could help prop up the dollar. The recent falls have partly been the result of big budget deficits, as well as the US\\'s yawning current account gap, both of which need to be funded by the buying of US bonds and assets by foreign firms and governments. The White House will announce its budget on Monday, and many commentators believe the deficit will remain at close to half a trillion dollars.\\n', category=/News/Business News, confidence=0.7599999904632568\n"
     ]
    }
   ],
   "source": [
    "# Execute a query on the table\n",
    "query = \"\"\"\n",
    "    SELECT article_text, category, confidence\n",
    "    FROM `qwiklabs-gcp-02-a10b0aabc62b.news_classification_dataset.article_data` \n",
    "    LIMIT 2\n",
    "\"\"\"\n",
    "query_job = client.query(query)  # Make an API request.\n",
    "\n",
    "print(\"The query data:\")\n",
    "for row in query_job:\n",
    "    # Row values can be accessed by field name or index.\n",
    "    print(f'article_text={row[0]}, category={row[\"category\"]}, confidence={row[\"confidence\"]}')"
   ]
  }
 ],
 "metadata": {
  "kernelspec": {
   "display_name": "Python 3.7.3 ('google_env')",
   "language": "python",
   "name": "python3"
  },
  "language_info": {
   "codemirror_mode": {
    "name": "ipython",
    "version": 3
   },
   "file_extension": ".py",
   "mimetype": "text/x-python",
   "name": "python",
   "nbconvert_exporter": "python",
   "pygments_lexer": "ipython3",
   "version": "3.7.3"
  },
  "orig_nbformat": 4,
  "vscode": {
   "interpreter": {
    "hash": "4f22912be4efbd944ee1810defd9207d6285be7ddfb94483d31e5ded4818b8ed"
   }
  }
 },
 "nbformat": 4,
 "nbformat_minor": 2
}
